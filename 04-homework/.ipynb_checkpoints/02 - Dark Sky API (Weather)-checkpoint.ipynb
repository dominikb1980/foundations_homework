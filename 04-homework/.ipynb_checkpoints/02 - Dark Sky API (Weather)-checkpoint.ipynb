{
 "cells": [
  {
   "cell_type": "markdown",
   "metadata": {},
   "source": [
    "# Dark Sky API (Weather)\n",
    "\n",
    "Answer the following questions using the [Dark Sky API](https://darksky.net/dev/). I've added three cells for each question but you're free to use more or less! Hold `Shift` and hit `Enter` to run a cell, and use the `+` on the top left to add a new cell to a notebook.\n",
    "\n",
    "If you spend some time reading the documentation your life will probably be a little bit easier!\n",
    "\n",
    "## 0) Import any libraries you might need\n",
    "\n",
    "- *Tip: We're going to be downloading things from the internet, so we probably need `requests`.*"
   ]
  },
  {
   "cell_type": "code",
   "execution_count": 1,
   "metadata": {},
   "outputs": [],
   "source": [
    "# libraries???\n",
    "\n",
    "import requests\n",
    "\n",
    "from dotenv import load_dotenv\n",
    "load_dotenv()\n",
    "import os\n",
    "\n",
    "API_KEY = os.getenv(\"DARKSKY_API_KEY\")\n",
    "\n",
    "\n",
    "response = requests.get(f'https://api.darksky.net/forecast/{API_KEY}/46.94809,7.44744')\n",
    "forecast = response.json()\n",
    "# Forecast Request for Bern: 46.94809, 7.44744\n",
    "\n",
    "# Time_Machine importieren: Bern weicht von GMT um +2 Stunden ab.\n",
    "\n",
    "# response = requests.get(f'https://api.darksky.net/forecast/{API_KEY}/46.94809,7.44744/+2')\n",
    "# forecast_time = response.json()\n",
    "\n"
   ]
  },
  {
   "cell_type": "code",
   "execution_count": 2,
   "metadata": {},
   "outputs": [
    {
     "name": "stdout",
     "output_type": "stream",
     "text": [
      "dict_keys(['latitude', 'longitude', 'timezone', 'currently', 'hourly', 'daily', 'flags', 'offset'])\n"
     ]
    }
   ],
   "source": [
    "print(forecast.keys())\n"
   ]
  },
  {
   "cell_type": "code",
   "execution_count": 3,
   "metadata": {},
   "outputs": [
    {
     "name": "stdout",
     "output_type": "stream",
     "text": [
      "dict_items([('latitude', 46.94809), ('longitude', 7.44744), ('timezone', 'Europe/Zurich'), ('currently', {'time': 1559924083, 'summary': 'Mostly Cloudy', 'icon': 'partly-cloudy-day', 'precipIntensity': 0.005, 'precipProbability': 0.09, 'precipType': 'rain', 'temperature': 69.5, 'apparentTemperature': 69.5, 'dewPoint': 53.07, 'humidity': 0.56, 'pressure': 1012.14, 'windSpeed': 5.98, 'windGust': 14.79, 'windBearing': 28, 'cloudCover': 0.82, 'uvIndex': 2, 'visibility': 6.55, 'ozone': 339.17}), ('hourly', {'summary': 'Mostly cloudy until tomorrow morning.', 'icon': 'partly-cloudy-night', 'data': [{'time': 1559923200, 'summary': 'Mostly Cloudy', 'icon': 'partly-cloudy-day', 'precipIntensity': 0.0042, 'precipProbability': 0.09, 'precipType': 'rain', 'temperature': 70.13, 'apparentTemperature': 70.13, 'dewPoint': 53.32, 'humidity': 0.55, 'pressure': 1011.77, 'windSpeed': 7.17, 'windGust': 15.41, 'windBearing': 24, 'cloudCover': 0.82, 'uvIndex': 2, 'visibility': 6.59, 'ozone': 338.68}, {'time': 1559926800, 'summary': 'Mostly Cloudy', 'icon': 'partly-cloudy-day', 'precipIntensity': 0.0072, 'precipProbability': 0.11, 'precipType': 'rain', 'temperature': 67.56, 'apparentTemperature': 67.56, 'dewPoint': 52.26, 'humidity': 0.58, 'pressure': 1013.3, 'windSpeed': 2.64, 'windGust': 12.9, 'windBearing': 54, 'cloudCover': 0.83, 'uvIndex': 1, 'visibility': 6.46, 'ozone': 340.69}, {'time': 1559930400, 'summary': 'Mostly Cloudy', 'icon': 'partly-cloudy-day', 'precipIntensity': 0.0091, 'precipProbability': 0.14, 'precipType': 'rain', 'temperature': 65.49, 'apparentTemperature': 65.49, 'dewPoint': 51.55, 'humidity': 0.61, 'pressure': 1014.81, 'windSpeed': 3.31, 'windGust': 11.81, 'windBearing': 306, 'cloudCover': 0.74, 'uvIndex': 0, 'visibility': 5.77, 'ozone': 342.75}, {'time': 1559934000, 'summary': 'Mostly Cloudy', 'icon': 'partly-cloudy-day', 'precipIntensity': 0.0085, 'precipProbability': 0.15, 'precipType': 'rain', 'temperature': 63.85, 'apparentTemperature': 63.85, 'dewPoint': 50.29, 'humidity': 0.61, 'pressure': 1016.28, 'windSpeed': 4.2, 'windGust': 14.01, 'windBearing': 327, 'cloudCover': 0.75, 'uvIndex': 0, 'visibility': 5.04, 'ozone': 344.75}, {'time': 1559937600, 'summary': 'Mostly Cloudy', 'icon': 'partly-cloudy-night', 'precipIntensity': 0.0066, 'precipProbability': 0.14, 'precipType': 'rain', 'temperature': 61.99, 'apparentTemperature': 61.99, 'dewPoint': 48.32, 'humidity': 0.61, 'pressure': 1017.7, 'windSpeed': 5.25, 'windGust': 17.63, 'windBearing': 208, 'cloudCover': 0.87, 'uvIndex': 0, 'visibility': 4.53, 'ozone': 346.74}, {'time': 1559941200, 'summary': 'Overcast', 'icon': 'cloudy', 'precipIntensity': 0.0049, 'precipProbability': 0.11, 'precipType': 'rain', 'temperature': 60.16, 'apparentTemperature': 60.16, 'dewPoint': 46.58, 'humidity': 0.61, 'pressure': 1018.89, 'windSpeed': 6.72, 'windGust': 20.15, 'windBearing': 252, 'cloudCover': 0.95, 'uvIndex': 0, 'visibility': 4.17, 'ozone': 348.62}, {'time': 1559944800, 'summary': 'Overcast', 'icon': 'cloudy', 'precipIntensity': 0.0031, 'precipProbability': 0.07, 'precipType': 'rain', 'temperature': 58.37, 'apparentTemperature': 58.37, 'dewPoint': 45.19, 'humidity': 0.62, 'pressure': 1019.74, 'windSpeed': 6.17, 'windGust': 20.83, 'windBearing': 266, 'cloudCover': 0.98, 'uvIndex': 0, 'visibility': 4.01, 'ozone': 350.32}, {'time': 1559948400, 'summary': 'Overcast', 'icon': 'cloudy', 'precipIntensity': 0.0019, 'precipProbability': 0.04, 'precipType': 'rain', 'temperature': 56.95, 'apparentTemperature': 56.95, 'dewPoint': 44.05, 'humidity': 0.62, 'pressure': 1020.35, 'windSpeed': 6.33, 'windGust': 20.42, 'windBearing': 242, 'cloudCover': 0.96, 'uvIndex': 0, 'visibility': 3.99, 'ozone': 351.9}, {'time': 1559952000, 'summary': 'Mostly Cloudy', 'icon': 'partly-cloudy-night', 'precipIntensity': 0.0017, 'precipProbability': 0.03, 'precipType': 'rain', 'temperature': 55.87, 'apparentTemperature': 55.87, 'dewPoint': 43.1, 'humidity': 0.62, 'pressure': 1020.92, 'windSpeed': 6.91, 'windGust': 18.67, 'windBearing': 239, 'cloudCover': 0.89, 'uvIndex': 0, 'visibility': 4.11, 'ozone': 353.08}, {'time': 1559955600, 'summary': 'Mostly Cloudy', 'icon': 'partly-cloudy-night', 'precipIntensity': 0.0011, 'precipProbability': 0.02, 'precipType': 'rain', 'temperature': 54.33, 'apparentTemperature': 54.33, 'dewPoint': 42.34, 'humidity': 0.64, 'pressure': 1021.5, 'windSpeed': 6.39, 'windGust': 14.19, 'windBearing': 232, 'cloudCover': 0.66, 'uvIndex': 0, 'visibility': 4.41, 'ozone': 353.76}, {'time': 1559959200, 'summary': 'Partly Cloudy', 'icon': 'partly-cloudy-night', 'precipIntensity': 0.0005, 'precipProbability': 0.02, 'precipType': 'rain', 'temperature': 52.38, 'apparentTemperature': 52.38, 'dewPoint': 41.77, 'humidity': 0.67, 'pressure': 1022.01, 'windSpeed': 5.8, 'windGust': 8.36, 'windBearing': 220, 'cloudCover': 0.35, 'uvIndex': 0, 'visibility': 4.88, 'ozone': 353.97}, {'time': 1559962800, 'summary': 'Clear', 'icon': 'clear-night', 'precipIntensity': 0.0002, 'precipProbability': 0.01, 'precipType': 'rain', 'temperature': 51.61, 'apparentTemperature': 51.61, 'dewPoint': 41.55, 'humidity': 0.68, 'pressure': 1022.52, 'windSpeed': 5.38, 'windGust': 5.87, 'windBearing': 214, 'cloudCover': 0.12, 'uvIndex': 0, 'visibility': 5.5, 'ozone': 353.85}, {'time': 1559966400, 'summary': 'Clear', 'icon': 'clear-day', 'precipIntensity': 0, 'precipProbability': 0, 'temperature': 52.19, 'apparentTemperature': 52.19, 'dewPoint': 42.04, 'humidity': 0.68, 'pressure': 1023.09, 'windSpeed': 5.35, 'windGust': 6.77, 'windBearing': 221, 'cloudCover': 0.05, 'uvIndex': 0, 'visibility': 6.3, 'ozone': 353.2}, {'time': 1559970000, 'summary': 'Clear', 'icon': 'clear-day', 'precipIntensity': 0, 'precipProbability': 0, 'temperature': 53.49, 'apparentTemperature': 53.49, 'dewPoint': 42.89, 'humidity': 0.67, 'pressure': 1023.64, 'windSpeed': 5.47, 'windGust': 11.03, 'windBearing': 234, 'cloudCover': 0.06, 'uvIndex': 0, 'visibility': 7.24, 'ozone': 352.23}, {'time': 1559973600, 'summary': 'Clear', 'icon': 'clear-day', 'precipIntensity': 0, 'precipProbability': 0, 'temperature': 55.52, 'apparentTemperature': 55.52, 'dewPoint': 43.18, 'humidity': 0.63, 'pressure': 1024.07, 'windSpeed': 5.61, 'windGust': 13.82, 'windBearing': 243, 'cloudCover': 0.06, 'uvIndex': 1, 'visibility': 8.22, 'ozone': 351.37}, {'time': 1559977200, 'summary': 'Clear', 'icon': 'clear-day', 'precipIntensity': 0, 'precipProbability': 0, 'temperature': 58.14, 'apparentTemperature': 58.14, 'dewPoint': 42.36, 'humidity': 0.56, 'pressure': 1024.25, 'windSpeed': 5.53, 'windGust': 13.31, 'windBearing': 249, 'cloudCover': 0.04, 'uvIndex': 2, 'visibility': 9.2, 'ozone': 350.85}, {'time': 1559980800, 'summary': 'Clear', 'icon': 'clear-day', 'precipIntensity': 0, 'precipProbability': 0, 'temperature': 60.96, 'apparentTemperature': 60.96, 'dewPoint': 41.04, 'humidity': 0.48, 'pressure': 1024.29, 'windSpeed': 5.53, 'windGust': 11.35, 'windBearing': 265, 'cloudCover': 0.02, 'uvIndex': 4, 'visibility': 10, 'ozone': 350.39}, {'time': 1559984400, 'summary': 'Clear', 'icon': 'clear-day', 'precipIntensity': 0, 'precipProbability': 0, 'temperature': 63.26, 'apparentTemperature': 63.26, 'dewPoint': 40.06, 'humidity': 0.42, 'pressure': 1024.18, 'windSpeed': 5.94, 'windGust': 9.65, 'windBearing': 258, 'cloudCover': 0.01, 'uvIndex': 6, 'visibility': 10, 'ozone': 349.8}, {'time': 1559988000, 'summary': 'Clear', 'icon': 'clear-day', 'precipIntensity': 0, 'precipProbability': 0, 'temperature': 65.5, 'apparentTemperature': 65.5, 'dewPoint': 39.77, 'humidity': 0.39, 'pressure': 1023.99, 'windSpeed': 5.34, 'windGust': 8.87, 'windBearing': 220, 'cloudCover': 0, 'uvIndex': 7, 'visibility': 10, 'ozone': 349.05}, {'time': 1559991600, 'summary': 'Clear', 'icon': 'clear-day', 'precipIntensity': 0, 'precipProbability': 0, 'temperature': 67.64, 'apparentTemperature': 67.64, 'dewPoint': 39.75, 'humidity': 0.36, 'pressure': 1023.66, 'windSpeed': 4.88, 'windGust': 8.32, 'windBearing': 323, 'cloudCover': 0, 'uvIndex': 8, 'visibility': 10, 'ozone': 348.22}, {'time': 1559995200, 'summary': 'Clear', 'icon': 'clear-day', 'precipIntensity': 0, 'precipProbability': 0, 'temperature': 69.84, 'apparentTemperature': 69.84, 'dewPoint': 39.8, 'humidity': 0.33, 'pressure': 1023.38, 'windSpeed': 4.95, 'windGust': 7.75, 'windBearing': 271, 'cloudCover': 0, 'uvIndex': 8, 'visibility': 10, 'ozone': 346.99}, {'time': 1559998800, 'summary': 'Clear', 'icon': 'clear-day', 'precipIntensity': 0, 'precipProbability': 0, 'temperature': 71.89, 'apparentTemperature': 71.89, 'dewPoint': 39.67, 'humidity': 0.31, 'pressure': 1023.15, 'windSpeed': 3.49, 'windGust': 6.9, 'windBearing': 225, 'cloudCover': 0.01, 'uvIndex': 7, 'visibility': 10, 'ozone': 345.09}, {'time': 1560002400, 'summary': 'Clear', 'icon': 'clear-day', 'precipIntensity': 0, 'precipProbability': 0, 'temperature': 73.86, 'apparentTemperature': 73.86, 'dewPoint': 39.6, 'humidity': 0.29, 'pressure': 1022.94, 'windSpeed': 3.97, 'windGust': 6.03, 'windBearing': 327, 'cloudCover': 0.02, 'uvIndex': 6, 'visibility': 10, 'ozone': 342.92}, {'time': 1560006000, 'summary': 'Clear', 'icon': 'clear-day', 'precipIntensity': 0, 'precipProbability': 0, 'temperature': 74.22, 'apparentTemperature': 74.22, 'dewPoint': 40.1, 'humidity': 0.29, 'pressure': 1022.84, 'windSpeed': 3.85, 'windGust': 5.53, 'windBearing': 303, 'cloudCover': 0.02, 'uvIndex': 4, 'visibility': 10, 'ozone': 341.17}, {'time': 1560009600, 'summary': 'Clear', 'icon': 'clear-day', 'precipIntensity': 0, 'precipProbability': 0, 'temperature': 74.28, 'apparentTemperature': 74.28, 'dewPoint': 41.77, 'humidity': 0.31, 'pressure': 1022.84, 'windSpeed': 3.63, 'windGust': 5.83, 'windBearing': 313, 'cloudCover': 0.02, 'uvIndex': 2, 'visibility': 10, 'ozone': 340.35}, {'time': 1560013200, 'summary': 'Clear', 'icon': 'clear-day', 'precipIntensity': 0, 'precipProbability': 0, 'temperature': 72.85, 'apparentTemperature': 72.85, 'dewPoint': 43.87, 'humidity': 0.35, 'pressure': 1022.92, 'windSpeed': 3.7, 'windGust': 6.51, 'windBearing': 348, 'cloudCover': 0.02, 'uvIndex': 1, 'visibility': 10, 'ozone': 340.01}, {'time': 1560016800, 'summary': 'Clear', 'icon': 'clear-day', 'precipIntensity': 0, 'precipProbability': 0, 'temperature': 70.31, 'apparentTemperature': 70.31, 'dewPoint': 44.91, 'humidity': 0.4, 'pressure': 1023.12, 'windSpeed': 3.66, 'windGust': 6.74, 'windBearing': 18, 'cloudCover': 0.02, 'uvIndex': 0, 'visibility': 10, 'ozone': 339.81}, {'time': 1560020400, 'summary': 'Clear', 'icon': 'clear-day', 'precipIntensity': 0, 'precipProbability': 0, 'temperature': 65.6, 'apparentTemperature': 65.6, 'dewPoint': 44.02, 'humidity': 0.46, 'pressure': 1023.58, 'windSpeed': 3.49, 'windGust': 5.98, 'windBearing': 31, 'cloudCover': 0.01, 'uvIndex': 0, 'visibility': 10, 'ozone': 339.77}, {'time': 1560024000, 'summary': 'Clear', 'icon': 'clear-night', 'precipIntensity': 0, 'precipProbability': 0, 'temperature': 59.74, 'apparentTemperature': 59.74, 'dewPoint': 42.09, 'humidity': 0.52, 'pressure': 1024.21, 'windSpeed': 3.24, 'windGust': 4.77, 'windBearing': 38, 'cloudCover': 0.01, 'uvIndex': 0, 'visibility': 8.7, 'ozone': 339.87}, {'time': 1560027600, 'summary': 'Clear', 'icon': 'clear-night', 'precipIntensity': 0, 'precipProbability': 0, 'temperature': 55.83, 'apparentTemperature': 55.83, 'dewPoint': 40.47, 'humidity': 0.56, 'pressure': 1024.59, 'windSpeed': 2.91, 'windGust': 3.74, 'windBearing': 43, 'cloudCover': 0, 'uvIndex': 0, 'visibility': 6.22, 'ozone': 339.2}, {'time': 1560031200, 'summary': 'Clear', 'icon': 'clear-night', 'precipIntensity': 0, 'precipProbability': 0, 'temperature': 54.07, 'apparentTemperature': 54.07, 'dewPoint': 39.82, 'humidity': 0.58, 'pressure': 1024.61, 'windSpeed': 2.58, 'windGust': 3.12, 'windBearing': 47, 'cloudCover': 0, 'uvIndex': 0, 'visibility': 5.36, 'ozone': 337.07}, {'time': 1560034800, 'summary': 'Clear', 'icon': 'clear-night', 'precipIntensity': 0, 'precipProbability': 0, 'temperature': 52.87, 'apparentTemperature': 52.87, 'dewPoint': 39.52, 'humidity': 0.6, 'pressure': 1024.43, 'windSpeed': 2.27, 'windGust': 2.72, 'windBearing': 47, 'cloudCover': 0, 'uvIndex': 0, 'visibility': 5.4, 'ozone': 334.24}, {'time': 1560038400, 'summary': 'Clear', 'icon': 'clear-night', 'precipIntensity': 0, 'precipProbability': 0, 'temperature': 51.66, 'apparentTemperature': 51.66, 'dewPoint': 39.28, 'humidity': 0.63, 'pressure': 1024.17, 'windSpeed': 2.05, 'windGust': 2.56, 'windBearing': 47, 'cloudCover': 0.01, 'uvIndex': 0, 'visibility': 5.95, 'ozone': 331.69}, {'time': 1560042000, 'summary': 'Clear', 'icon': 'clear-night', 'precipIntensity': 0, 'precipProbability': 0, 'temperature': 50.04, 'apparentTemperature': 50.04, 'dewPoint': 38.9, 'humidity': 0.65, 'pressure': 1023.93, 'windSpeed': 1.89, 'windGust': 2.55, 'windBearing': 48, 'cloudCover': 0.05, 'uvIndex': 0, 'visibility': 7.27, 'ozone': 330.07}, {'time': 1560045600, 'summary': 'Clear', 'icon': 'clear-night', 'precipIntensity': 0, 'precipProbability': 0, 'temperature': 48.57, 'apparentTemperature': 48.57, 'dewPoint': 38.61, 'humidity': 0.68, 'pressure': 1023.65, 'windSpeed': 1.82, 'windGust': 2.8, 'windBearing': 48, 'cloudCover': 0.1, 'uvIndex': 0, 'visibility': 9.11, 'ozone': 328.74}, {'time': 1560049200, 'summary': 'Clear', 'icon': 'clear-night', 'precipIntensity': 0, 'precipProbability': 0, 'temperature': 48.38, 'apparentTemperature': 48.38, 'dewPoint': 38.78, 'humidity': 0.69, 'pressure': 1023.3, 'windSpeed': 1.87, 'windGust': 3.09, 'windBearing': 52, 'cloudCover': 0.14, 'uvIndex': 0, 'visibility': 10, 'ozone': 327.48}, {'time': 1560052800, 'summary': 'Clear', 'icon': 'clear-day', 'precipIntensity': 0, 'precipProbability': 0, 'temperature': 50.24, 'apparentTemperature': 50.24, 'dewPoint': 39.62, 'humidity': 0.67, 'pressure': 1022.83, 'windSpeed': 2.15, 'windGust': 3.31, 'windBearing': 60, 'cloudCover': 0.14, 'uvIndex': 0, 'visibility': 10, 'ozone': 326.01}, {'time': 1560056400, 'summary': 'Clear', 'icon': 'clear-day', 'precipIntensity': 0, 'precipProbability': 0, 'temperature': 53.81, 'apparentTemperature': 53.81, 'dewPoint': 40.92, 'humidity': 0.62, 'pressure': 1022.32, 'windSpeed': 2.5, 'windGust': 3.58, 'windBearing': 70, 'cloudCover': 0.12, 'uvIndex': 0, 'visibility': 9.59, 'ozone': 324.41}, {'time': 1560060000, 'summary': 'Clear', 'icon': 'clear-day', 'precipIntensity': 0, 'precipProbability': 0, 'temperature': 57.17, 'apparentTemperature': 57.17, 'dewPoint': 42.47, 'humidity': 0.58, 'pressure': 1021.85, 'windSpeed': 2.87, 'windGust': 3.99, 'windBearing': 77, 'cloudCover': 0.15, 'uvIndex': 1, 'visibility': 8.81, 'ozone': 322.97}, {'time': 1560063600, 'summary': 'Partly Cloudy', 'icon': 'partly-cloudy-day', 'precipIntensity': 0, 'precipProbability': 0, 'temperature': 60.52, 'apparentTemperature': 60.52, 'dewPoint': 44.33, 'humidity': 0.55, 'pressure': 1021.42, 'windSpeed': 3.32, 'windGust': 4.65, 'windBearing': 74, 'cloudCover': 0.26, 'uvIndex': 2, 'visibility': 7.97, 'ozone': 321.44}, {'time': 1560067200, 'summary': 'Partly Cloudy', 'icon': 'partly-cloudy-day', 'precipIntensity': 0, 'precipProbability': 0, 'temperature': 63.76, 'apparentTemperature': 63.76, 'dewPoint': 46.45, 'humidity': 0.53, 'pressure': 1021.01, 'windSpeed': 3.81, 'windGust': 5.46, 'windBearing': 68, 'cloudCover': 0.41, 'uvIndex': 4, 'visibility': 7.03, 'ozone': 319.96}, {'time': 1560070800, 'summary': 'Partly Cloudy', 'icon': 'partly-cloudy-day', 'precipIntensity': 0, 'precipProbability': 0, 'temperature': 66.5, 'apparentTemperature': 66.5, 'dewPoint': 48.37, 'humidity': 0.52, 'pressure': 1020.64, 'windSpeed': 4.18, 'windGust': 6.17, 'windBearing': 58, 'cloudCover': 0.55, 'uvIndex': 5, 'visibility': 6.34, 'ozone': 318.51}, {'time': 1560074400, 'summary': 'Mostly Cloudy', 'icon': 'partly-cloudy-day', 'precipIntensity': 0.0004, 'precipProbability': 0.02, 'precipType': 'rain', 'temperature': 69.03, 'apparentTemperature': 69.03, 'dewPoint': 49.89, 'humidity': 0.51, 'pressure': 1020.35, 'windSpeed': 4.46, 'windGust': 6.71, 'windBearing': 42, 'cloudCover': 0.62, 'uvIndex': 6, 'visibility': 6.16, 'ozone': 317.06}, {'time': 1560078000, 'summary': 'Mostly Cloudy', 'icon': 'partly-cloudy-day', 'precipIntensity': 0.0012, 'precipProbability': 0.03, 'precipType': 'rain', 'temperature': 71.45, 'apparentTemperature': 71.45, 'dewPoint': 51.19, 'humidity': 0.49, 'pressure': 1020.09, 'windSpeed': 4.32, 'windGust': 7.17, 'windBearing': 342, 'cloudCover': 0.68, 'uvIndex': 6, 'visibility': 6.24, 'ozone': 315.59}, {'time': 1560081600, 'summary': 'Mostly Cloudy', 'icon': 'partly-cloudy-day', 'precipIntensity': 0.0022, 'precipProbability': 0.06, 'precipType': 'rain', 'temperature': 72.79, 'apparentTemperature': 72.79, 'dewPoint': 52.36, 'humidity': 0.49, 'pressure': 1019.89, 'windSpeed': 4.49, 'windGust': 7.53, 'windBearing': 304, 'cloudCover': 0.74, 'uvIndex': 5, 'visibility': 6.13, 'ozone': 314.75}, {'time': 1560085200, 'summary': 'Mostly Cloudy', 'icon': 'partly-cloudy-day', 'precipIntensity': 0.0031, 'precipProbability': 0.1, 'precipType': 'rain', 'temperature': 73.4, 'apparentTemperature': 73.4, 'dewPoint': 53.42, 'humidity': 0.5, 'pressure': 1019.66, 'windSpeed': 4.6, 'windGust': 7.8, 'windBearing': 315, 'cloudCover': 0.83, 'uvIndex': 5, 'visibility': 5.66, 'ozone': 314.77}, {'time': 1560088800, 'summary': 'Mostly Cloudy', 'icon': 'partly-cloudy-day', 'precipIntensity': 0.0054, 'precipProbability': 0.18, 'precipType': 'rain', 'temperature': 73.31, 'apparentTemperature': 73.31, 'dewPoint': 54.33, 'humidity': 0.51, 'pressure': 1019.46, 'windSpeed': 4.53, 'windGust': 7.97, 'windBearing': 3, 'cloudCover': 0.93, 'uvIndex': 4, 'visibility': 5, 'ozone': 315.32}, {'time': 1560092400, 'summary': 'Overcast', 'icon': 'cloudy', 'precipIntensity': 0.0087, 'precipProbability': 0.25, 'precipType': 'rain', 'temperature': 73.48, 'apparentTemperature': 73.48, 'dewPoint': 55, 'humidity': 0.52, 'pressure': 1019.32, 'windSpeed': 4.42, 'windGust': 7.96, 'windBearing': 26, 'cloudCover': 0.99, 'uvIndex': 3, 'visibility': 4.31, 'ozone': 315.8}, {'time': 1560096000, 'summary': 'Overcast', 'icon': 'cloudy', 'precipIntensity': 0.0119, 'precipProbability': 0.28, 'precipType': 'rain', 'temperature': 73, 'apparentTemperature': 73, 'dewPoint': 55.42, 'humidity': 0.54, 'pressure': 1019.22, 'windSpeed': 2.95, 'windGust': 7.77, 'windBearing': 357, 'cloudCover': 0.99, 'uvIndex': 2, 'visibility': 3.57, 'ozone': 316.19}]}), ('daily', {'summary': 'Light rain on Sunday through Thursday, with high temperatures bottoming out at 59°F on Tuesday.', 'icon': 'rain', 'data': [{'time': 1559858400, 'summary': 'Foggy in the morning.', 'icon': 'fog', 'sunriseTime': 1559878675, 'sunsetTime': 1559935387, 'moonPhase': 0.14, 'precipIntensity': 0.0018, 'precipIntensityMax': 0.0091, 'precipIntensityMaxTime': 1559930400, 'precipProbability': 0.31, 'precipType': 'rain', 'temperatureHigh': 71.16, 'temperatureHighTime': 1559919600, 'temperatureLow': 51.61, 'temperatureLowTime': 1559962800, 'apparentTemperatureHigh': 71.16, 'apparentTemperatureHighTime': 1559919600, 'apparentTemperatureLow': 51.61, 'apparentTemperatureLowTime': 1559962800, 'dewPoint': 50.38, 'humidity': 0.73, 'pressure': 1013.06, 'windSpeed': 2.7, 'windGust': 20.15, 'windGustTime': 1559941200, 'windBearing': 348, 'cloudCover': 0.77, 'uvIndex': 7, 'uvIndexTime': 1559908800, 'visibility': 4.69, 'ozone': 343.46, 'temperatureMin': 52.2, 'temperatureMinTime': 1559862000, 'temperatureMax': 71.16, 'temperatureMaxTime': 1559919600, 'apparentTemperatureMin': 52.2, 'apparentTemperatureMinTime': 1559862000, 'apparentTemperatureMax': 71.16, 'apparentTemperatureMaxTime': 1559919600}, {'time': 1559944800, 'summary': 'Clear throughout the day.', 'icon': 'clear-day', 'sunriseTime': 1559965054, 'sunsetTime': 1560021830, 'moonPhase': 0.18, 'precipIntensity': 0.0004, 'precipIntensityMax': 0.0031, 'precipIntensityMaxTime': 1559944800, 'precipProbability': 0.11, 'precipType': 'rain', 'temperatureHigh': 74.28, 'temperatureHighTime': 1560009600, 'temperatureLow': 48.38, 'temperatureLowTime': 1560049200, 'apparentTemperatureHigh': 74.28, 'apparentTemperatureHighTime': 1560009600, 'apparentTemperatureLow': 48.38, 'apparentTemperatureLowTime': 1560049200, 'dewPoint': 41.89, 'humidity': 0.49, 'pressure': 1022.99, 'windSpeed': 3.16, 'windGust': 20.83, 'windGustTime': 1559944800, 'windBearing': 260, 'cloudCover': 0.18, 'uvIndex': 8, 'uvIndexTime': 1559991600, 'visibility': 8.03, 'ozone': 347.38, 'temperatureMin': 51.61, 'temperatureMinTime': 1559962800, 'temperatureMax': 74.28, 'temperatureMaxTime': 1560009600, 'apparentTemperatureMin': 51.61, 'apparentTemperatureMinTime': 1559962800, 'apparentTemperatureMax': 74.28, 'apparentTemperatureMaxTime': 1560009600}, {'time': 1560031200, 'summary': 'Foggy starting in the evening.', 'icon': 'fog', 'sunriseTime': 1560051435, 'sunsetTime': 1560108271, 'moonPhase': 0.22, 'precipIntensity': 0.0056, 'precipIntensityMax': 0.0223, 'precipIntensityMaxTime': 1560106800, 'precipProbability': 0.76, 'precipType': 'rain', 'temperatureHigh': 73.48, 'temperatureHighTime': 1560092400, 'temperatureLow': 57.2, 'temperatureLowTime': 1560132000, 'apparentTemperatureHigh': 73.48, 'apparentTemperatureHighTime': 1560092400, 'apparentTemperatureLow': 57.2, 'apparentTemperatureLowTime': 1560132000, 'dewPoint': 47.59, 'humidity': 0.59, 'pressure': 1021.16, 'windSpeed': 2.31, 'windGust': 7.97, 'windGustTime': 1560088800, 'windBearing': 31, 'cloudCover': 0.52, 'uvIndex': 6, 'uvIndexTime': 1560074400, 'visibility': 5.77, 'ozone': 321.55, 'temperatureMin': 48.38, 'temperatureMinTime': 1560049200, 'temperatureMax': 73.48, 'temperatureMaxTime': 1560092400, 'apparentTemperatureMin': 48.38, 'apparentTemperatureMinTime': 1560049200, 'apparentTemperatureMax': 73.48, 'apparentTemperatureMaxTime': 1560092400}, {'time': 1560117600, 'summary': 'Light rain starting in the afternoon, continuing until evening.', 'icon': 'rain', 'sunriseTime': 1560137818, 'sunsetTime': 1560194710, 'moonPhase': 0.26, 'precipIntensity': 0.0172, 'precipIntensityMax': 0.0519, 'precipIntensityMaxTime': 1560186000, 'precipProbability': 0.92, 'precipType': 'rain', 'temperatureHigh': 67.34, 'temperatureHighTime': 1560168000, 'temperatureLow': 54.16, 'temperatureLowTime': 1560232800, 'apparentTemperatureHigh': 67.34, 'apparentTemperatureHighTime': 1560168000, 'apparentTemperatureLow': 54.16, 'apparentTemperatureLowTime': 1560232800, 'dewPoint': 54.05, 'humidity': 0.76, 'pressure': 1015.91, 'windSpeed': 1.1, 'windGust': 6.68, 'windGustTime': 1560178800, 'windBearing': 348, 'cloudCover': 0.85, 'uvIndex': 4, 'uvIndexTime': 1560157200, 'visibility': 4.03, 'ozone': 329.77, 'temperatureMin': 57.2, 'temperatureMinTime': 1560132000, 'temperatureMax': 67.34, 'temperatureMaxTime': 1560168000, 'apparentTemperatureMin': 57.2, 'apparentTemperatureMinTime': 1560132000, 'apparentTemperatureMax': 67.34, 'apparentTemperatureMaxTime': 1560168000}, {'time': 1560204000, 'summary': 'Light rain starting in the evening.', 'icon': 'rain', 'sunriseTime': 1560224204, 'sunsetTime': 1560281148, 'moonPhase': 0.29, 'precipIntensity': 0.014, 'precipIntensityMax': 0.022, 'precipIntensityMaxTime': 1560258000, 'precipProbability': 0.93, 'precipType': 'rain', 'temperatureHigh': 56.71, 'temperatureHighTime': 1560247200, 'temperatureLow': 50.74, 'temperatureLowTime': 1560312000, 'apparentTemperatureHigh': 56.71, 'apparentTemperatureHighTime': 1560247200, 'apparentTemperatureLow': 50.74, 'apparentTemperatureLowTime': 1560312000, 'dewPoint': 49.79, 'humidity': 0.8, 'pressure': 1012.61, 'windSpeed': 2.82, 'windGust': 9.26, 'windGustTime': 1560254400, 'windBearing': 12, 'cloudCover': 0.95, 'uvIndex': 4, 'uvIndexTime': 1560247200, 'visibility': 4.29, 'ozone': 349.24, 'temperatureMin': 54.16, 'temperatureMinTime': 1560232800, 'temperatureMax': 58.9, 'temperatureMaxTime': 1560204000, 'apparentTemperatureMin': 54.16, 'apparentTemperatureMinTime': 1560232800, 'apparentTemperatureMax': 58.9, 'apparentTemperatureMaxTime': 1560204000}, {'time': 1560290400, 'summary': 'Mostly cloudy throughout the day.', 'icon': 'partly-cloudy-day', 'sunriseTime': 1560310592, 'sunsetTime': 1560367582, 'moonPhase': 0.33, 'precipIntensity': 0.008, 'precipIntensityMax': 0.0337, 'precipIntensityMaxTime': 1560373200, 'precipProbability': 0.9, 'precipType': 'rain', 'temperatureHigh': 60.52, 'temperatureHighTime': 1560337200, 'temperatureLow': 48.78, 'temperatureLowTime': 1560394800, 'apparentTemperatureHigh': 60.52, 'apparentTemperatureHighTime': 1560337200, 'apparentTemperatureLow': 48.78, 'apparentTemperatureLowTime': 1560394800, 'dewPoint': 46.22, 'humidity': 0.7, 'pressure': 1013.54, 'windSpeed': 1.21, 'windGust': 5.26, 'windGustTime': 1560351600, 'windBearing': 187, 'cloudCover': 0.87, 'uvIndex': 5, 'uvIndexTime': 1560333600, 'visibility': 4.97, 'ozone': 358.62, 'temperatureMin': 50.74, 'temperatureMinTime': 1560312000, 'temperatureMax': 60.52, 'temperatureMaxTime': 1560337200, 'apparentTemperatureMin': 50.74, 'apparentTemperatureMinTime': 1560312000, 'apparentTemperatureMax': 60.52, 'apparentTemperatureMaxTime': 1560337200}, {'time': 1560376800, 'summary': 'Partly cloudy starting in the evening.', 'icon': 'partly-cloudy-night', 'sunriseTime': 1560396983, 'sunsetTime': 1560454015, 'moonPhase': 0.37, 'precipIntensity': 0.0031, 'precipIntensityMax': 0.0307, 'precipIntensityMaxTime': 1560376800, 'precipProbability': 0.57, 'precipType': 'rain', 'temperatureHigh': 73.22, 'temperatureHighTime': 1560441600, 'temperatureLow': 50.68, 'temperatureLowTime': 1560481200, 'apparentTemperatureHigh': 73.22, 'apparentTemperatureHighTime': 1560441600, 'apparentTemperatureLow': 50.68, 'apparentTemperatureLowTime': 1560481200, 'dewPoint': 47.22, 'humidity': 0.63, 'pressure': 1017.29, 'windSpeed': 1.45, 'windGust': 12.03, 'windGustTime': 1560448800, 'windBearing': 30, 'cloudCover': 0.31, 'uvIndex': 8, 'uvIndexTime': 1560423600, 'visibility': 9, 'ozone': 347.72, 'temperatureMin': 48.78, 'temperatureMinTime': 1560394800, 'temperatureMax': 73.22, 'temperatureMaxTime': 1560441600, 'apparentTemperatureMin': 48.78, 'apparentTemperatureMinTime': 1560394800, 'apparentTemperatureMax': 73.22, 'apparentTemperatureMaxTime': 1560441600}, {'time': 1560463200, 'summary': 'Mostly cloudy throughout the day.', 'icon': 'partly-cloudy-day', 'sunriseTime': 1560483376, 'sunsetTime': 1560540446, 'moonPhase': 0.4, 'precipIntensity': 0.0012, 'precipIntensityMax': 0.004, 'precipIntensityMaxTime': 1560535200, 'precipProbability': 0.49, 'precipType': 'rain', 'temperatureHigh': 75.64, 'temperatureHighTime': 1560513600, 'temperatureLow': 54.83, 'temperatureLowTime': 1560567600, 'apparentTemperatureHigh': 75.64, 'apparentTemperatureHighTime': 1560513600, 'apparentTemperatureLow': 54.83, 'apparentTemperatureLowTime': 1560567600, 'dewPoint': 50.97, 'humidity': 0.62, 'pressure': 1017.44, 'windSpeed': 2.64, 'windGust': 9.11, 'windGustTime': 1560528000, 'windBearing': 30, 'cloudCover': 0.73, 'uvIndex': 4, 'uvIndexTime': 1560502800, 'visibility': 6.91, 'ozone': 317.6, 'temperatureMin': 50.68, 'temperatureMinTime': 1560481200, 'temperatureMax': 75.64, 'temperatureMaxTime': 1560513600, 'apparentTemperatureMin': 50.68, 'apparentTemperatureMinTime': 1560481200, 'apparentTemperatureMax': 75.64, 'apparentTemperatureMaxTime': 1560513600}]}), ('flags', {'sources': ['meteoalarm', 'cmc', 'gfs', 'icon', 'isd', 'madis'], 'meteoalarm-license': 'Based on data from EUMETNET - MeteoAlarm [https://www.meteoalarm.eu/]. Time delays between this website and the MeteoAlarm website are possible; for the most up to date information about alert levels as published by the participating National Meteorological Services please use the MeteoAlarm website.', 'nearest-station': 2.582, 'units': 'us'}), ('offset', 2)])\n"
     ]
    }
   ],
   "source": [
    "print(forecast.items())"
   ]
  },
  {
   "cell_type": "code",
   "execution_count": 4,
   "metadata": {},
   "outputs": [
    {
     "name": "stdout",
     "output_type": "stream",
     "text": [
      "69.5\n"
     ]
    }
   ],
   "source": [
    "print(forecast['currently']['temperature'])"
   ]
  },
  {
   "cell_type": "markdown",
   "metadata": {
    "collapsed": true
   },
   "source": [
    "## 1) Make a request from the Dark Sky API for where you were born (or lived, or want to visit!).\n",
    "\n",
    "- *Tip: The URL we used in class was for a place near San Francisco. What was the format of the endpoint that made this happen?*\n",
    "- *Tip: Save the URL as a separate variable, and be sure to not have `[` and `]` inside.*\n",
    "- *Tip: How is north vs. south and east vs. west latitude/longitude represented? Is it the normal North/South/East/West?*\n",
    "- *Tip: You know it's JSON, but Python doesn't! Make sure you aren't trying to deal with plain text.* \n",
    "- *Tip: Once you've imported the JSON into a variable, check the timezone's name to make sure it seems like it got the right part of the world!*"
   ]
  },
  {
   "cell_type": "code",
   "execution_count": 5,
   "metadata": {},
   "outputs": [],
   "source": [
    "# URL für Bern separat speichern: \n",
    "Bern = 'https://api.darksky.net/forecast/{API_KEY}/46.94809,7.44744'"
   ]
  },
  {
   "cell_type": "code",
   "execution_count": 6,
   "metadata": {},
   "outputs": [
    {
     "data": {
      "text/plain": [
       "'https://api.darksky.net/forecast/{API_KEY}/46.94809,7.44744'"
      ]
     },
     "execution_count": 6,
     "metadata": {},
     "output_type": "execute_result"
    }
   ],
   "source": [
    "Bern"
   ]
  },
  {
   "cell_type": "code",
   "execution_count": 7,
   "metadata": {},
   "outputs": [
    {
     "data": {
      "text/plain": [
       "'Europe/Zurich'"
      ]
     },
     "execution_count": 7,
     "metadata": {},
     "output_type": "execute_result"
    }
   ],
   "source": [
    "forecast['timezone']"
   ]
  },
  {
   "cell_type": "markdown",
   "metadata": {},
   "source": [
    "## 2) What's the current wind speed? How much warmer does it feel than it actually is?\n",
    "\n",
    "- *Tip: You can do this by browsing through the dictionaries, but it might be easier to read the documentation*\n",
    "- *Tip: For the second half: it **is** one temperature, and it **feels** a different temperature. Calculate the difference.*"
   ]
  },
  {
   "cell_type": "code",
   "execution_count": 8,
   "metadata": {},
   "outputs": [
    {
     "name": "stdout",
     "output_type": "stream",
     "text": [
      "5.98\n"
     ]
    }
   ],
   "source": [
    "print(forecast['currently']['windSpeed'])"
   ]
  },
  {
   "cell_type": "code",
   "execution_count": 9,
   "metadata": {},
   "outputs": [
    {
     "name": "stdout",
     "output_type": "stream",
     "text": [
      "0.0\n"
     ]
    }
   ],
   "source": [
    "print(forecast['currently']['temperature'] - forecast['currently']['apparentTemperature'])\n",
    "\n",
    "# \"temperature\": 66.1,\n",
    "# \"apparentTemperature\": 66.31, (gefühlte Temperatur)"
   ]
  },
  {
   "cell_type": "code",
   "execution_count": null,
   "metadata": {},
   "outputs": [],
   "source": []
  },
  {
   "cell_type": "markdown",
   "metadata": {},
   "source": [
    "## 3) Today's forecast is the FIRST daily forecast. For the place you decided on above, how much of the moon is currently visible?\n",
    "\n",
    "- *Tip: This does **not** use the `currently` key.*\n",
    "- *Tip: It might be helpful to save the forecast into its own variable*"
   ]
  },
  {
   "cell_type": "code",
   "execution_count": 10,
   "metadata": {},
   "outputs": [],
   "source": [
    "daily_forecast = forecast['daily']['data'][0]['moonPhase']"
   ]
  },
  {
   "cell_type": "code",
   "execution_count": 11,
   "metadata": {},
   "outputs": [
    {
     "data": {
      "text/plain": [
       "list"
      ]
     },
     "execution_count": 11,
     "metadata": {},
     "output_type": "execute_result"
    }
   ],
   "source": [
    "type(forecast['daily']['data'])"
   ]
  },
  {
   "cell_type": "code",
   "execution_count": 12,
   "metadata": {},
   "outputs": [
    {
     "name": "stdout",
     "output_type": "stream",
     "text": [
      "0.14\n"
     ]
    }
   ],
   "source": [
    "print(daily_forecast)\n",
    "\n",
    "\n",
    "# so druckt man das erste Element einer Liste \n",
    "# moon_list ist eine Liste [0]"
   ]
  },
  {
   "cell_type": "code",
   "execution_count": null,
   "metadata": {},
   "outputs": [],
   "source": []
  },
  {
   "cell_type": "markdown",
   "metadata": {},
   "source": [
    "## 4) What's the difference between the high and low temperatures for today?"
   ]
  },
  {
   "cell_type": "code",
   "execution_count": 13,
   "metadata": {},
   "outputs": [
    {
     "name": "stdout",
     "output_type": "stream",
     "text": [
      "19.549999999999997\n"
     ]
    }
   ],
   "source": [
    "temp_1 = forecast['daily']['data'][0]['temperatureHigh']\n",
    "\n",
    "temp_2 = forecast['daily']['data'][0]['temperatureLow']\n",
    "\n",
    "temp_diff = temp_1 - temp_2\n",
    "\n",
    "print(temp_diff)\n",
    "\n",
    "#"
   ]
  },
  {
   "cell_type": "code",
   "execution_count": null,
   "metadata": {},
   "outputs": [],
   "source": []
  },
  {
   "cell_type": "code",
   "execution_count": 14,
   "metadata": {},
   "outputs": [],
   "source": [
    "# temperatureHigh\n",
    "# temperatureLow"
   ]
  },
  {
   "cell_type": "markdown",
   "metadata": {},
   "source": [
    "## 5) Go through the daily forecasts, printing out the next week's worth of predictions.\n",
    "\n",
    "I'd like to know the **high temperature** for each day, and whether it's **hot, warm, or cold** (based on what temperatures you think are hot, warm or cold).\n",
    "\n",
    "- *Tip: Is it returning F or C? You can change them by adding `?units=us` or `?units=si` onto the end of the URL.*\n",
    "- *Tip: You'll need to use an `if` statement to say whether it is hot, warm or cold.*"
   ]
  },
  {
   "cell_type": "code",
   "execution_count": null,
   "metadata": {},
   "outputs": [],
   "source": []
  },
  {
   "cell_type": "code",
   "execution_count": 37,
   "metadata": {},
   "outputs": [
    {
     "name": "stdout",
     "output_type": "stream",
     "text": [
      "It is hot\n",
      "74.28\n",
      "It is hot\n",
      "73.48\n",
      "It is hot\n",
      "67.34\n",
      "It is warm\n",
      "56.71\n",
      "It is hot\n",
      "60.52\n",
      "It is hot\n",
      "73.22\n",
      "It is hot\n",
      "75.64\n"
     ]
    }
   ],
   "source": [
    "next_weeks = forecast['daily']['data'][1:]\n",
    "\n",
    "# in Celsius\n",
    "# cold = below 10  \n",
    "# warm = between 10 and 25 \n",
    "# hot = above 25 \n",
    "\n",
    "for next_week in next_weeks:\n",
    "    if next_week['temperatureMax'] < 30:\n",
    "        print(\"It is cold\")\n",
    "    elif next_week['temperatureMax'] > 30 and next_week['temperatureMax'] < 60: \n",
    "        print(\"It is warm\")\n",
    "    elif next_week['temperatureMax'] > 60:\n",
    "        print(\"It is hot\")\n",
    "    print(next_week['temperatureHigh'])\n",
    "\n",
    "# Fahrenheit = wie kann das geändert werden?     "
   ]
  },
  {
   "cell_type": "code",
   "execution_count": null,
   "metadata": {},
   "outputs": [],
   "source": []
  },
  {
   "cell_type": "markdown",
   "metadata": {},
   "source": [
    "# 6) What will be the hottest day in the next week? What is the high temperature on that day?\n",
    "\n",
    "It's okay if your result looks like `1453363200`. If you want to be extra-fancy, though, format it as a **real date** - the weird number is called a **UNIX timestamp**, which might help in googling.\n",
    "\n",
    "- *Tip: It's okay to skip this if it seems too difficult!*"
   ]
  },
  {
   "cell_type": "code",
   "execution_count": 55,
   "metadata": {},
   "outputs": [],
   "source": [
    "for next_week in next_weeks:\n",
    "    if next_week['temperatureMax'] == temp_1:\n",
    "        print(next_week['temperatureMax'], next_week['time'])\n",
    "\n",
    "# temp1 (high)\n",
    "# temp2 (low)"
   ]
  },
  {
   "cell_type": "code",
   "execution_count": null,
   "metadata": {},
   "outputs": [],
   "source": []
  },
  {
   "cell_type": "code",
   "execution_count": null,
   "metadata": {},
   "outputs": [],
   "source": []
  },
  {
   "cell_type": "markdown",
   "metadata": {},
   "source": [
    "## 7) What's the weather looking like for the next 24+ hours in Miami, Florida?\n",
    "\n",
    "I'd like to know the temperature for every hour, and if it's going to have cloud cover of more than 50% say \"{temperature} and cloudy\" instead of just the temperature. \n",
    "\n",
    "\n",
    "- *Tip: Be sure to remember how latitude and longitude are done with positive and negative numbers*\n",
    "- *Tip: How do you represent \"50%\" for cloud cover?*"
   ]
  },
  {
   "cell_type": "code",
   "execution_count": 83,
   "metadata": {},
   "outputs": [
    {
     "name": "stdout",
     "output_type": "stream",
     "text": [
      "the temperature in Miami is 87.24 F\n",
      "the temperature in Miami is 86.45 F\n",
      "the temperature in Miami is 84.61 F\n",
      "the temperature in Miami is 82.61 F\n",
      "the temperature in Miami is 80.81 F\n",
      "the temperature in Miami is 79.43 F\n",
      "the temperature in Miami is 78.41 F\n",
      "the temperature in Miami is 77.44 F\n",
      "the temperature in Miami is 76.31 F\n",
      "the temperature in Miami is 75.43 F\n",
      "the temperature in Miami is 74.92 F\n",
      "the temperature in Miami is 74.65 F\n",
      "the temperature in Miami is 75.23 F\n",
      "the temperature in Miami is 76.17 F\n",
      "the temperature in Miami is 77.47 F\n",
      "the temperature in Miami is 79.83 F\n",
      "the temperature in Miami is 82.87 F\n",
      "the temperature in Miami is 84.84 F\n",
      "the temperature in Miami is 85.71 F\n",
      "the temperature in Miami is 77.59 F\n",
      "the temperature in Miami is 76.71 F\n",
      "the temperature in Miami is 76.02 F\n",
      "the temperature in Miami is 75.17 F\n",
      "the temperature in Miami is 74.25 F\n",
      "the temperature in Miami is 78.58 F\n",
      "the temperature in Miami is 82.67 F\n",
      "the temperature in Miami is 85.64 F\n",
      "the temperature in Miami is 87.51 F\n",
      "the temperature in Miami is 87.92 F\n",
      "the temperature in Miami is 88.47 F\n",
      "the temperature is 88.06 F and it is cloudy\n"
     ]
    }
   ],
   "source": [
    "response = requests.get(f'https://api.darksky.net/forecast/{API_KEY}/27.994402,-81.760254')\n",
    "forecast_miami = response.json()\n",
    "\n",
    "\n",
    "\n",
    "miamis = forecast_miami['hourly']['data']\n",
    "\n",
    "for miami in miamis: \n",
    "    if miami['cloudCover'] < 0.5:\n",
    "        print(\"the temperature in Miami is\", miami['temperature'], \"F\")\n",
    "else:\n",
    "    print(\"the temperature is\", miami['temperature'], \"F and it is cloudy\")"
   ]
  },
  {
   "cell_type": "code",
   "execution_count": null,
   "metadata": {},
   "outputs": [],
   "source": [
    "# Florida:\n",
    "# \"latitude\": 27.994402,\n",
    "# \"longitude\": -81.760254,"
   ]
  },
  {
   "cell_type": "code",
   "execution_count": null,
   "metadata": {},
   "outputs": [],
   "source": []
  },
  {
   "cell_type": "markdown",
   "metadata": {},
   "source": [
    "# 8) For the next 24-ish hours in Miami, what percent of the time is the temperature above 85 degrees?\n",
    "\n",
    "If they give you 48 hours instead of 24, that's okay.\n",
    "\n",
    "- *Tip: You might want to read up on [looping patterns](http://jonathansoma.com/lede/foundations-2017/classes/data%20structures/looping-patterns/)*"
   ]
  },
  {
   "cell_type": "code",
   "execution_count": 100,
   "metadata": {},
   "outputs": [
    {
     "name": "stdout",
     "output_type": "stream",
     "text": [
      "the percentage is 37.026218475524544%\n"
     ]
    }
   ],
   "source": [
    "miami_85 = []\n",
    "\n",
    "miami_rest = []\n",
    "\n",
    "miami_next_24 = (forecast_miami['hourly']['data'])\n",
    "\n",
    "\n",
    "for miami in miami_next_24: \n",
    "    if miami['temperature'] > 85:\n",
    "        miami_85.append(miami['temperature'])\n",
    "    elif miami['temperature'] < 85:\n",
    "        miami_rest.append(miami['temperature'])\n",
    "\n",
    "total_rest = sum(miami_rest)\n",
    "\n",
    "total_85 = sum(miami_85)\n",
    "\n",
    "total_85 # total Stunden, wenn über 85 Grad\n",
    "\n",
    "total_rest # total Stunden, wenn unter 85 Grad \n",
    "\n",
    "total_abs = total_rest + total_85 \n",
    "\n",
    "percentage85 = 100 * total_85 / total_abs\n",
    "\n",
    "print(f\"the percentage is {percentage85}%\")"
   ]
  },
  {
   "cell_type": "code",
   "execution_count": null,
   "metadata": {},
   "outputs": [],
   "source": []
  },
  {
   "cell_type": "code",
   "execution_count": null,
   "metadata": {},
   "outputs": [],
   "source": []
  },
  {
   "cell_type": "markdown",
   "metadata": {},
   "source": [
    "## 9) What was the temperature in Central Park on Christmas Day, 2012? How about 2007? 2005? How far back does the API allow you to go?\n",
    "\n",
    "- *Tip: You'll need to use UNIX time, which is the number of seconds since January 1, 1970. Google can help you convert a normal date!*\n",
    "- *Tip: You'll want to use Forecast.io's \"time machine\" API, [documentation here](https://darksky.net/dev/docs/time-machine)*"
   ]
  },
  {
   "cell_type": "code",
   "execution_count": null,
   "metadata": {},
   "outputs": [],
   "source": [
    "# Central Park \n",
    "# latitude: 40.785091\n",
    "# longitude: -73.968285\n",
    "# time stamp: 1356393600\n",
    "# Is equivalent to:\n",
    "# 12/25/2012 @ 12:00am (UTC)"
   ]
  },
  {
   "cell_type": "code",
   "execution_count": 126,
   "metadata": {},
   "outputs": [
    {
     "name": "stdout",
     "output_type": "stream",
     "text": [
      "the temperature at christmas day 2012 was 36.82\n",
      "the temperature at christmas day 2007 was 41.25\n"
     ]
    }
   ],
   "source": [
    "response = requests.get(f'https://api.darksky.net/forecast/{API_KEY}/40.785091,-73.968285,1356393600')\n",
    "central_park_2012 = response.json()\n",
    "\n",
    "cp_12 = central_park_2012['hourly']['data']\n",
    "\n",
    "cp_12\n",
    "\n",
    "for cp12 in cp_12:\n",
    "    if cp12['time'] == 1356393600:\n",
    "        print(\"the temperature at christmas day 2012 was\", cp12['temperature'])\n",
    "\n",
    "\n",
    "response = requests.get(f'https://api.darksky.net/forecast/{API_KEY}/40.785091,-73.968285,1198540800')\n",
    "central_park_2007 = response.json()\n",
    "\n",
    "cp_07 = central_park_2007['hourly']['data']\n",
    "\n",
    "cp_07\n",
    "\n",
    "for cp07 in cp_07:\n",
    "    if cp07['time'] == 1198540800:\n",
    "        print(\"the temperature at christmas day 2007 was\", cp07['temperature'])\n"
   ]
  },
  {
   "cell_type": "code",
   "execution_count": null,
   "metadata": {},
   "outputs": [],
   "source": []
  }
 ],
 "metadata": {
  "kernelspec": {
   "display_name": "Python 3",
   "language": "python",
   "name": "python3"
  },
  "language_info": {
   "codemirror_mode": {
    "name": "ipython",
    "version": 3
   },
   "file_extension": ".py",
   "mimetype": "text/x-python",
   "name": "python",
   "nbconvert_exporter": "python",
   "pygments_lexer": "ipython3",
   "version": "3.7.3"
  }
 },
 "nbformat": 4,
 "nbformat_minor": 1
}
